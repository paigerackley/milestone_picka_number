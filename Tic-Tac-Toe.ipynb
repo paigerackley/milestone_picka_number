{
 "cells": [
  {
   "cell_type": "markdown",
   "id": "629808fd",
   "metadata": {},
   "source": [
    "# Tic-Tac-Toe!"
   ]
  },
  {
   "cell_type": "code",
   "execution_count": 4,
   "id": "e9be07b5",
   "metadata": {},
   "outputs": [
    {
     "name": "stdout",
     "output_type": "stream",
     "text": [
      "   |   |\n",
      " O | X |  \n",
      "   |   |\n",
      "-----------\n",
      "   |   |\n",
      " O | X | X\n",
      "   |   |\n",
      "-----------\n",
      "   |   |\n",
      " O | O | X\n",
      "   |   |\n",
      "PLAYER 1 HAS WON!\n",
      "Do you want to play again? Enter Yes or No: 8\n"
     ]
    }
   ],
   "source": [
    "import functions"
   ]
  },
  {
   "cell_type": "code",
   "execution_count": null,
   "id": "6348c158",
   "metadata": {},
   "outputs": [],
   "source": []
  }
 ],
 "metadata": {
  "kernelspec": {
   "display_name": "Python 3 (ipykernel)",
   "language": "python",
   "name": "python3"
  },
  "language_info": {
   "codemirror_mode": {
    "name": "ipython",
    "version": 3
   },
   "file_extension": ".py",
   "mimetype": "text/x-python",
   "name": "python",
   "nbconvert_exporter": "python",
   "pygments_lexer": "ipython3",
   "version": "3.9.7"
  }
 },
 "nbformat": 4,
 "nbformat_minor": 5
}
