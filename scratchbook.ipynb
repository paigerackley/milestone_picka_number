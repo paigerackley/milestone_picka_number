{
 "cells": [
  {
   "cell_type": "markdown",
   "id": "57df55cc",
   "metadata": {},
   "source": [
    "step 1: write a function that can print out a board. \n",
    "\n",
    "- set board as a list, where each index 1-9 coresponds with a number on a number pad so you get a 3 by 3 representation."
   ]
  },
  {
   "cell_type": "code",
   "execution_count": 7,
   "id": "080dcca5",
   "metadata": {},
   "outputs": [],
   "source": [
    "from IPython.display import clear_output\n",
    "\n",
    "def display_board(board):\n",
    "    \n",
    "    print(board[7]+'|'+board[8]+'|'+board[9])\n",
    "    print(board[4]+'|'+board[5]+'|'+board[6])\n",
    "    print(board[1]+'|'+board[2]+'|'+board[3])"
   ]
  },
  {
   "cell_type": "code",
   "execution_count": 6,
   "id": "a443f53a",
   "metadata": {},
   "outputs": [
    {
     "name": "stdout",
     "output_type": "stream",
     "text": [
      "X|O|X\n",
      "O|X|O\n",
      "X|O|X\n"
     ]
    }
   ],
   "source": [
    "# Testing\n",
    "\n",
    "test_board = \n",
    "display_board(test_board)"
   ]
  },
  {
   "cell_type": "markdown",
   "id": "44402d45",
   "metadata": {},
   "source": [
    "step 2: write a function that can take in a player input and assign their marker as 'X' or 'O'"
   ]
  },
  {
   "cell_type": "code",
   "execution_count": null,
   "id": "1fe3b305",
   "metadata": {},
   "outputs": [],
   "source": [
    "def player_input():\n",
    "    \n",
    "    marker = ''\n",
    "    \n",
    "    # KEEP ASKING PLAYER 1 to choose X OR O\n",
    "    \n",
    "    while marker != 'X' and marker != 'O':\n",
    "        marker = input('Player 1, choose X or O: ')\n",
    "        \n",
    "    # ASSIGN PLAYER 2, the opposite marker\n",
    "    player1 = marker\n",
    "    \n",
    "    if player1 == 'X':\n",
    "        player2 == 'O'\n",
    "    else:\n",
    "        player2 == 'X'\n",
    "        \n",
    "    return(player1,player2)"
   ]
  },
  {
   "cell_type": "code",
   "execution_count": null,
   "id": "2686a267",
   "metadata": {},
   "outputs": [],
   "source": [
    "# Testing\n",
    "\n",
    "player1_marker, player2_marker = player_input()"
   ]
  },
  {
   "cell_type": "markdown",
   "id": "43bd1e87",
   "metadata": {},
   "source": [
    "step 3: write a function that takes in a board lost object, a marker 'X' or 'O' and a desired position (number 1-9) and assigns it to the board."
   ]
  },
  {
   "cell_type": "code",
   "execution_count": 3,
   "id": "e17f3b15",
   "metadata": {},
   "outputs": [],
   "source": [
    "def place_marker(board,marker,position):\n",
    "    \n",
    "    pass"
   ]
  },
  {
   "cell_type": "code",
   "execution_count": null,
   "id": "101ad171",
   "metadata": {},
   "outputs": [],
   "source": [
    "# Testing\n",
    "\n",
    "place_marker(test_board,'$',8)\n",
    "display_board(test_board)"
   ]
  },
  {
   "cell_type": "markdown",
   "id": "8dab5550",
   "metadata": {},
   "source": [
    "step 4: write a function that takes in a board and a mark (x or o) and then checks to see if that mark has won."
   ]
  },
  {
   "cell_type": "code",
   "execution_count": null,
   "id": "1361203b",
   "metadata": {},
   "outputs": [],
   "source": [
    "def win_check(board, mark):\n",
    "    \n",
    "    pass"
   ]
  },
  {
   "cell_type": "code",
   "execution_count": null,
   "id": "3866d92e",
   "metadata": {},
   "outputs": [],
   "source": [
    "# Testing\n",
    "\n",
    "win_check()"
   ]
  },
  {
   "cell_type": "markdown",
   "id": "e2bdb678",
   "metadata": {},
   "source": [
    "step 5: write a function that uses the random module to randomly decide which player goes first. hint: random.randint()"
   ]
  },
  {
   "cell_type": "code",
   "execution_count": null,
   "id": "60d8e9e1",
   "metadata": {},
   "outputs": [],
   "source": [
    "import random\n",
    "\n"
   ]
  }
 ],
 "metadata": {
  "kernelspec": {
   "display_name": "Python 3 (ipykernel)",
   "language": "python",
   "name": "python3"
  },
  "language_info": {
   "codemirror_mode": {
    "name": "ipython",
    "version": 3
   },
   "file_extension": ".py",
   "mimetype": "text/x-python",
   "name": "python",
   "nbconvert_exporter": "python",
   "pygments_lexer": "ipython3",
   "version": "3.9.7"
  }
 },
 "nbformat": 4,
 "nbformat_minor": 5
}
